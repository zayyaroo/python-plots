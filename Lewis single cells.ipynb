{
 "cells": [
  {
   "cell_type": "code",
   "execution_count": 1,
   "metadata": {},
   "outputs": [],
   "source": [
    "import numpy as np\n",
    "import pandas as pd"
   ]
  },
  {
   "cell_type": "code",
   "execution_count": 2,
   "metadata": {},
   "outputs": [],
   "source": [
    "Livecells = pd.read_csv('Objects_Population - Life Stain.txt',delimiter=\"\\t\")"
   ]
  },
  {
   "cell_type": "code",
   "execution_count": 3,
   "metadata": {},
   "outputs": [
    {
     "data": {
      "text/html": [
       "<div>\n",
       "<style scoped>\n",
       "    .dataframe tbody tr th:only-of-type {\n",
       "        vertical-align: middle;\n",
       "    }\n",
       "\n",
       "    .dataframe tbody tr th {\n",
       "        vertical-align: top;\n",
       "    }\n",
       "\n",
       "    .dataframe thead th {\n",
       "        text-align: right;\n",
       "    }\n",
       "</style>\n",
       "<table border=\"1\" class=\"dataframe\">\n",
       "  <thead>\n",
       "    <tr style=\"text-align: right;\">\n",
       "      <th></th>\n",
       "      <th>Row</th>\n",
       "      <th>Column</th>\n",
       "      <th>Plane</th>\n",
       "      <th>Timepoint</th>\n",
       "      <th>Field</th>\n",
       "      <th>Object No</th>\n",
       "      <th>X</th>\n",
       "      <th>Y</th>\n",
       "      <th>Bounding Box</th>\n",
       "      <th>Compound</th>\n",
       "      <th>Concentration</th>\n",
       "      <th>Cell Type</th>\n",
       "      <th>Cell Count</th>\n",
       "      <th>Life Stain - Intensity live Mean</th>\n",
       "      <th>Life Stain - nucleus staining Mean</th>\n",
       "      <th>Life Stain - Object No in nucleus</th>\n",
       "      <th>Unnamed: 16</th>\n",
       "    </tr>\n",
       "  </thead>\n",
       "  <tbody>\n",
       "    <tr>\n",
       "      <th>0</th>\n",
       "      <td>2</td>\n",
       "      <td>2</td>\n",
       "      <td>1</td>\n",
       "      <td>0</td>\n",
       "      <td>1</td>\n",
       "      <td>1</td>\n",
       "      <td>20</td>\n",
       "      <td>12</td>\n",
       "      <td>[4,1,35,28]</td>\n",
       "      <td>NaN</td>\n",
       "      <td>NaN</td>\n",
       "      <td>NaN</td>\n",
       "      <td>NaN</td>\n",
       "      <td>3617.53</td>\n",
       "      <td>3982.18</td>\n",
       "      <td>1</td>\n",
       "      <td>NaN</td>\n",
       "    </tr>\n",
       "    <tr>\n",
       "      <th>1</th>\n",
       "      <td>2</td>\n",
       "      <td>2</td>\n",
       "      <td>1</td>\n",
       "      <td>0</td>\n",
       "      <td>1</td>\n",
       "      <td>2</td>\n",
       "      <td>139</td>\n",
       "      <td>8</td>\n",
       "      <td>[126,1,172,16]</td>\n",
       "      <td>NaN</td>\n",
       "      <td>NaN</td>\n",
       "      <td>NaN</td>\n",
       "      <td>NaN</td>\n",
       "      <td>3237.05</td>\n",
       "      <td>4206.38</td>\n",
       "      <td>2</td>\n",
       "      <td>NaN</td>\n",
       "    </tr>\n",
       "    <tr>\n",
       "      <th>2</th>\n",
       "      <td>2</td>\n",
       "      <td>2</td>\n",
       "      <td>1</td>\n",
       "      <td>0</td>\n",
       "      <td>1</td>\n",
       "      <td>3</td>\n",
       "      <td>185</td>\n",
       "      <td>13</td>\n",
       "      <td>[165,1,206,30]</td>\n",
       "      <td>NaN</td>\n",
       "      <td>NaN</td>\n",
       "      <td>NaN</td>\n",
       "      <td>NaN</td>\n",
       "      <td>3985.90</td>\n",
       "      <td>4852.29</td>\n",
       "      <td>3</td>\n",
       "      <td>NaN</td>\n",
       "    </tr>\n",
       "    <tr>\n",
       "      <th>3</th>\n",
       "      <td>2</td>\n",
       "      <td>2</td>\n",
       "      <td>1</td>\n",
       "      <td>0</td>\n",
       "      <td>1</td>\n",
       "      <td>4</td>\n",
       "      <td>541</td>\n",
       "      <td>16</td>\n",
       "      <td>[513,1,572,50]</td>\n",
       "      <td>NaN</td>\n",
       "      <td>NaN</td>\n",
       "      <td>NaN</td>\n",
       "      <td>NaN</td>\n",
       "      <td>4058.24</td>\n",
       "      <td>4544.25</td>\n",
       "      <td>4</td>\n",
       "      <td>NaN</td>\n",
       "    </tr>\n",
       "    <tr>\n",
       "      <th>4</th>\n",
       "      <td>2</td>\n",
       "      <td>2</td>\n",
       "      <td>1</td>\n",
       "      <td>0</td>\n",
       "      <td>1</td>\n",
       "      <td>5</td>\n",
       "      <td>584</td>\n",
       "      <td>23</td>\n",
       "      <td>[552,1,613,70]</td>\n",
       "      <td>NaN</td>\n",
       "      <td>NaN</td>\n",
       "      <td>NaN</td>\n",
       "      <td>NaN</td>\n",
       "      <td>4177.87</td>\n",
       "      <td>4421.11</td>\n",
       "      <td>5</td>\n",
       "      <td>NaN</td>\n",
       "    </tr>\n",
       "  </tbody>\n",
       "</table>\n",
       "</div>"
      ],
      "text/plain": [
       "   Row  Column  Plane  Timepoint  Field  Object No    X   Y    Bounding Box  \\\n",
       "0    2       2      1          0      1          1   20  12     [4,1,35,28]   \n",
       "1    2       2      1          0      1          2  139   8  [126,1,172,16]   \n",
       "2    2       2      1          0      1          3  185  13  [165,1,206,30]   \n",
       "3    2       2      1          0      1          4  541  16  [513,1,572,50]   \n",
       "4    2       2      1          0      1          5  584  23  [552,1,613,70]   \n",
       "\n",
       "   Compound  Concentration  Cell Type  Cell Count  \\\n",
       "0       NaN            NaN        NaN         NaN   \n",
       "1       NaN            NaN        NaN         NaN   \n",
       "2       NaN            NaN        NaN         NaN   \n",
       "3       NaN            NaN        NaN         NaN   \n",
       "4       NaN            NaN        NaN         NaN   \n",
       "\n",
       "   Life Stain - Intensity live Mean  Life Stain - nucleus staining Mean  \\\n",
       "0                           3617.53                             3982.18   \n",
       "1                           3237.05                             4206.38   \n",
       "2                           3985.90                             4852.29   \n",
       "3                           4058.24                             4544.25   \n",
       "4                           4177.87                             4421.11   \n",
       "\n",
       "   Life Stain - Object No in nucleus  Unnamed: 16  \n",
       "0                                  1          NaN  \n",
       "1                                  2          NaN  \n",
       "2                                  3          NaN  \n",
       "3                                  4          NaN  \n",
       "4                                  5          NaN  "
      ]
     },
     "execution_count": 3,
     "metadata": {},
     "output_type": "execute_result"
    }
   ],
   "source": [
    "Livecells.head()"
   ]
  },
  {
   "cell_type": "code",
   "execution_count": 4,
   "metadata": {},
   "outputs": [],
   "source": [
    "Livecells = Livecells.drop(Livecells.columns[[2,3,4,6,7,8,9,10,11,12,16]],axis = 1)"
   ]
  },
  {
   "cell_type": "code",
   "execution_count": 5,
   "metadata": {},
   "outputs": [],
   "source": [
    "Livecells['Row'] = Livecells['Row'].apply(str)\n",
    "Livecells['Column'] = Livecells['Column'].apply(str)"
   ]
  },
  {
   "cell_type": "code",
   "execution_count": 6,
   "metadata": {},
   "outputs": [],
   "source": [
    "Livecells['Tm'] = Livecells['Row'].replace({'2':'Gox','3':'Empty','4':'Gox','5':'Empty','6':'Gox','7':'Empty'})"
   ]
  },
  {
   "cell_type": "code",
   "execution_count": 7,
   "metadata": {},
   "outputs": [],
   "source": [
    "Livecells['Glu'] = Livecells['Row'].replace({'2':'0.17','3':'0.17','4':'0.8','5':'0.8','6':'1.4','7':'1.4'})"
   ]
  },
  {
   "cell_type": "code",
   "execution_count": 8,
   "metadata": {},
   "outputs": [],
   "source": [
    "Livecells['Vesciles'] = Livecells['Column'].replace({'2':'conc1','3':'conc1','4':'conc1','5':'conc2','6':'conc2','7':'conc2','8':'conc3','9':'conc3','10':'conc3'})"
   ]
  },
  {
   "cell_type": "code",
   "execution_count": 9,
   "metadata": {},
   "outputs": [
    {
     "data": {
      "text/html": [
       "<div>\n",
       "<style scoped>\n",
       "    .dataframe tbody tr th:only-of-type {\n",
       "        vertical-align: middle;\n",
       "    }\n",
       "\n",
       "    .dataframe tbody tr th {\n",
       "        vertical-align: top;\n",
       "    }\n",
       "\n",
       "    .dataframe thead th {\n",
       "        text-align: right;\n",
       "    }\n",
       "</style>\n",
       "<table border=\"1\" class=\"dataframe\">\n",
       "  <thead>\n",
       "    <tr style=\"text-align: right;\">\n",
       "      <th></th>\n",
       "      <th>Row</th>\n",
       "      <th>Column</th>\n",
       "      <th>Object No</th>\n",
       "      <th>Life Stain - Intensity live Mean</th>\n",
       "      <th>Life Stain - nucleus staining Mean</th>\n",
       "      <th>Life Stain - Object No in nucleus</th>\n",
       "      <th>Tm</th>\n",
       "      <th>Glu</th>\n",
       "      <th>Vesciles</th>\n",
       "    </tr>\n",
       "  </thead>\n",
       "  <tbody>\n",
       "    <tr>\n",
       "      <th>0</th>\n",
       "      <td>2</td>\n",
       "      <td>2</td>\n",
       "      <td>1</td>\n",
       "      <td>3617.53</td>\n",
       "      <td>3982.18</td>\n",
       "      <td>1</td>\n",
       "      <td>Gox</td>\n",
       "      <td>0.17</td>\n",
       "      <td>conc1</td>\n",
       "    </tr>\n",
       "    <tr>\n",
       "      <th>1</th>\n",
       "      <td>2</td>\n",
       "      <td>2</td>\n",
       "      <td>2</td>\n",
       "      <td>3237.05</td>\n",
       "      <td>4206.38</td>\n",
       "      <td>2</td>\n",
       "      <td>Gox</td>\n",
       "      <td>0.17</td>\n",
       "      <td>conc1</td>\n",
       "    </tr>\n",
       "    <tr>\n",
       "      <th>2</th>\n",
       "      <td>2</td>\n",
       "      <td>2</td>\n",
       "      <td>3</td>\n",
       "      <td>3985.90</td>\n",
       "      <td>4852.29</td>\n",
       "      <td>3</td>\n",
       "      <td>Gox</td>\n",
       "      <td>0.17</td>\n",
       "      <td>conc1</td>\n",
       "    </tr>\n",
       "    <tr>\n",
       "      <th>3</th>\n",
       "      <td>2</td>\n",
       "      <td>2</td>\n",
       "      <td>4</td>\n",
       "      <td>4058.24</td>\n",
       "      <td>4544.25</td>\n",
       "      <td>4</td>\n",
       "      <td>Gox</td>\n",
       "      <td>0.17</td>\n",
       "      <td>conc1</td>\n",
       "    </tr>\n",
       "    <tr>\n",
       "      <th>4</th>\n",
       "      <td>2</td>\n",
       "      <td>2</td>\n",
       "      <td>5</td>\n",
       "      <td>4177.87</td>\n",
       "      <td>4421.11</td>\n",
       "      <td>5</td>\n",
       "      <td>Gox</td>\n",
       "      <td>0.17</td>\n",
       "      <td>conc1</td>\n",
       "    </tr>\n",
       "  </tbody>\n",
       "</table>\n",
       "</div>"
      ],
      "text/plain": [
       "  Row Column  Object No  Life Stain - Intensity live Mean  \\\n",
       "0   2      2          1                           3617.53   \n",
       "1   2      2          2                           3237.05   \n",
       "2   2      2          3                           3985.90   \n",
       "3   2      2          4                           4058.24   \n",
       "4   2      2          5                           4177.87   \n",
       "\n",
       "   Life Stain - nucleus staining Mean  Life Stain - Object No in nucleus   Tm  \\\n",
       "0                             3982.18                                  1  Gox   \n",
       "1                             4206.38                                  2  Gox   \n",
       "2                             4852.29                                  3  Gox   \n",
       "3                             4544.25                                  4  Gox   \n",
       "4                             4421.11                                  5  Gox   \n",
       "\n",
       "    Glu Vesciles  \n",
       "0  0.17    conc1  \n",
       "1  0.17    conc1  \n",
       "2  0.17    conc1  \n",
       "3  0.17    conc1  \n",
       "4  0.17    conc1  "
      ]
     },
     "execution_count": 9,
     "metadata": {},
     "output_type": "execute_result"
    }
   ],
   "source": [
    "Livecells.head()"
   ]
  },
  {
   "cell_type": "code",
   "execution_count": 10,
   "metadata": {},
   "outputs": [],
   "source": [
    "lowglu_c1 = Livecells [(Livecells['Glu']== '0.17') & (Livecells['Vesciles']== 'conc1')]\n",
    "highglu_c1 = Livecells[(Livecells['Glu']== '1.4')&(Livecells['Vesciles']== 'conc1')]"
   ]
  },
  {
   "cell_type": "code",
   "execution_count": 11,
   "metadata": {},
   "outputs": [],
   "source": [
    "import matplotlib.pyplot as plt\n",
    "import seaborn as sns\n",
    "%matplotlib inline"
   ]
  },
  {
   "cell_type": "code",
   "execution_count": 12,
   "metadata": {},
   "outputs": [
    {
     "data": {
      "text/plain": [
       "count    7954.000000\n",
       "mean     2108.803582\n",
       "std       439.033146\n",
       "min      1076.590000\n",
       "25%      1805.570000\n",
       "50%      2018.205000\n",
       "75%      2326.265000\n",
       "max      6526.820000\n",
       "Name: Life Stain - Intensity live Mean, dtype: float64"
      ]
     },
     "execution_count": 12,
     "metadata": {},
     "output_type": "execute_result"
    }
   ],
   "source": [
    "highglu_c1[(highglu_c1['Tm']=='Gox')]['Life Stain - Intensity live Mean'].describe()"
   ]
  },
  {
   "cell_type": "code",
   "execution_count": 13,
   "metadata": {},
   "outputs": [
    {
     "data": {
      "text/plain": [
       "count    24996.000000\n",
       "mean      3725.931890\n",
       "std        972.874365\n",
       "min       1176.300000\n",
       "25%       3053.625000\n",
       "50%       3595.280000\n",
       "75%       4257.552500\n",
       "max      13602.800000\n",
       "Name: Life Stain - Intensity live Mean, dtype: float64"
      ]
     },
     "execution_count": 13,
     "metadata": {},
     "output_type": "execute_result"
    }
   ],
   "source": [
    "highglu_c1[(highglu_c1['Tm']=='Empty')]['Life Stain - Intensity live Mean'].describe()"
   ]
  },
  {
   "cell_type": "code",
   "execution_count": 14,
   "metadata": {},
   "outputs": [
    {
     "data": {
      "text/plain": [
       "<BarContainer object of 32950 artists>"
      ]
     },
     "execution_count": 14,
     "metadata": {},
     "output_type": "execute_result"
    },
    {
     "data": {
      "image/png": "[encoded data removed]",
      "text/plain": [
       "<Figure size 432x288 with 1 Axes>"
      ]
     },
     "metadata": {},
     "output_type": "display_data"
    }
   ],
   "source": [
    "plt.style.use('ggplot')\n",
    "plt.bar(highglu_c1['Tm'],highglu_c1['Life Stain - Intensity live Mean'])"
   ]
  },
  {
   "cell_type": "code",
   "execution_count": 15,
   "metadata": {},
   "outputs": [
    {
     "data": {
      "text/plain": [
       "<matplotlib.legend.Legend at 0x28f4d4aeb00>"
      ]
     },
     "execution_count": 15,
     "metadata": {},
     "output_type": "execute_result"
    },
    {
     "data": {
      "image/png": "[encoded data removed]",
      "text/plain": [
       "<Figure size 432x288 with 3 Axes>"
      ]
     },
     "metadata": {},
     "output_type": "display_data"
    }
   ],
   "source": [
    "plt.subplot(1,3,1)\n",
    "sns.boxplot(x='Glu',y='Life Stain - Intensity live Mean',hue = 'Tm',data=Livecells[Livecells['Vesciles']=='conc1'])\n",
    "plt.subplot(1,3,2)\n",
    "sns.boxplot(x='Glu',y='Life Stain - Intensity live Mean',hue = 'Tm',data=Livecells[Livecells['Vesciles']=='conc2'])\n",
    "plt.subplot(1,3,3)\n",
    "sns.boxplot(x='Glu',y='Life Stain - Intensity live Mean',hue = 'Tm',data=Livecells[Livecells['Vesciles']=='conc3'])\n",
    "plt.legend(bbox_to_anchor=(1.05, 1), loc=2, borderaxespad=0.)"
   ]
  },
  {
   "cell_type": "code",
   "execution_count": 16,
   "metadata": {},
   "outputs": [
    {
     "data": {
      "text/plain": [
       "<matplotlib.legend.Legend at 0x28f50dfd080>"
      ]
     },
     "execution_count": 16,
     "metadata": {},
     "output_type": "execute_result"
    },
    {
     "data": {
      "image/png": "[encoded data removed]",
      "text/plain": [
       "<Figure size 1080x360 with 3 Axes>"
      ]
     },
     "metadata": {},
     "output_type": "display_data"
    }
   ],
   "source": [
    "fig, (ax1,ax2,ax3) = plt.subplots(1,3,figsize=(15,5))\n",
    "plot1 = sns.boxplot(x='Glu',y='Life Stain - Intensity live Mean',hue = 'Tm',data=Livecells[Livecells['Vesciles']=='conc1'],ax=ax1).set(xlabel='Glucose',ylabel='Intensity live cells')\n",
    "ax1.get_legend().remove()\n",
    "plot2 = sns.boxplot(x='Glu',y='Life Stain - Intensity live Mean',hue = 'Tm',data=Livecells[Livecells['Vesciles']=='conc2'],ax=ax2).set(xlabel='Glucose',ylabel='Intensity live cells')\n",
    "ax2.get_legend().remove()\n",
    "plot3 = sns.boxplot(x='Glu',y='Life Stain - Intensity live Mean',hue = 'Tm',data=Livecells[Livecells['Vesciles']=='conc3'],ax=ax3).set(xlabel='Glucose',ylabel='Intensity live cells')\n",
    "ax3.get_legend().remove()\n",
    "\n",
    "plt.legend(bbox_to_anchor=(1.05, 1), loc=2, borderaxespad=0.)"
   ]
  },
  {
   "cell_type": "code",
   "execution_count": 17,
   "metadata": {},
   "outputs": [
    {
     "data": {
      "text/plain": [
       "[Text(0,0.5,'Intensity live cells'),\n",
       " Text(0.5,0,'Glucose'),\n",
       " Text(0.5,1,'Conc3')]"
      ]
     },
     "execution_count": 17,
     "metadata": {},
     "output_type": "execute_result"
    },
    {
     "data": {
      "image/png": "[encoded data removed]",
      "text/plain": [
       "<Figure size 1440x360 with 3 Axes>"
      ]
     },
     "metadata": {},
     "output_type": "display_data"
    }
   ],
   "source": [
    "fig, axes = plt.subplots(1,3,figsize=(20,5))\n",
    "\n",
    "sns.boxplot(x='Glu',y='Life Stain - Intensity live Mean',hue = 'Tm',data=Livecells[Livecells['Vesciles']=='conc1'],ax=axes[0]).set(xlabel='Glucose',ylabel='Intensity live cells')\n",
    "\n",
    "sns.boxplot(x='Glu',y='Life Stain - Intensity live Mean',hue = 'Tm',data=Livecells[Livecells['Vesciles']=='conc2'],ax=axes[1]).set(xlabel='Glucose',ylabel='Intensity live cells',title='Conc2')\n",
    "\n",
    "sns.boxplot(x='Glu',y='Life Stain - Intensity live Mean',hue = 'Tm',data=Livecells[Livecells['Vesciles']=='conc3'],ax=axes[2]).set(xlabel='Glucose',ylabel='Intensity live cells',title='Conc3')\n",
    "\n"
   ]
  },
  {
   "cell_type": "code",
   "execution_count": 18,
   "metadata": {},
   "outputs": [
    {
     "name": "stdout",
     "output_type": "stream",
     "text": [
      "Object `pylab.rcParams` not found.\n"
     ]
    }
   ],
   "source": [
    "pylab.rcParams?"
   ]
  },
  {
   "cell_type": "code",
   "execution_count": 19,
   "metadata": {},
   "outputs": [
    {
     "data": {
      "text/plain": [
       "<matplotlib.axes._subplots.AxesSubplot at 0x28f55582c88>"
      ]
     },
     "execution_count": 19,
     "metadata": {},
     "output_type": "execute_result"
    },
    {
     "data": {
      "image/png": "[encoded data removed]",
      "text/plain": [
       "<Figure size 432x288 with 1 Axes>"
      ]
     },
     "metadata": {},
     "output_type": "display_data"
    }
   ],
   "source": [
    "sns.countplot(x='Tm',data=highglu_c1)"
   ]
  },
  {
   "cell_type": "code",
   "execution_count": 20,
   "metadata": {},
   "outputs": [],
   "source": [
    "g = highglu_c1['Life Stain - Intensity live Mean'][highglu_c1['Life Stain - Intensity live Mean']>5000]"
   ]
  },
  {
   "cell_type": "code",
   "execution_count": 21,
   "metadata": {},
   "outputs": [
    {
     "data": {
      "text/plain": [
       "2486"
      ]
     },
     "execution_count": 21,
     "metadata": {},
     "output_type": "execute_result"
    }
   ],
   "source": [
    "g.count()"
   ]
  },
  {
   "cell_type": "code",
   "execution_count": 22,
   "metadata": {},
   "outputs": [],
   "source": [
    "deadcells = pd.read_csv('Objects_Population - Dead Stain.txt',delimiter=\"\\t\")"
   ]
  },
  {
   "cell_type": "code",
   "execution_count": 23,
   "metadata": {},
   "outputs": [
    {
     "data": {
      "text/html": [
       "<div>\n",
       "<style scoped>\n",
       "    .dataframe tbody tr th:only-of-type {\n",
       "        vertical-align: middle;\n",
       "    }\n",
       "\n",
       "    .dataframe tbody tr th {\n",
       "        vertical-align: top;\n",
       "    }\n",
       "\n",
       "    .dataframe thead th {\n",
       "        text-align: right;\n",
       "    }\n",
       "</style>\n",
       "<table border=\"1\" class=\"dataframe\">\n",
       "  <thead>\n",
       "    <tr style=\"text-align: right;\">\n",
       "      <th></th>\n",
       "      <th>Row</th>\n",
       "      <th>Column</th>\n",
       "      <th>Plane</th>\n",
       "      <th>Timepoint</th>\n",
       "      <th>Field</th>\n",
       "      <th>Object No</th>\n",
       "      <th>X</th>\n",
       "      <th>Y</th>\n",
       "      <th>Bounding Box</th>\n",
       "      <th>Compound</th>\n",
       "      <th>Concentration</th>\n",
       "      <th>Cell Type</th>\n",
       "      <th>Cell Count</th>\n",
       "      <th>Dead Stain - Intensity dead Mean</th>\n",
       "      <th>Dead Stain - Object No in Dead Stain All</th>\n",
       "      <th>Unnamed: 15</th>\n",
       "    </tr>\n",
       "  </thead>\n",
       "  <tbody>\n",
       "    <tr>\n",
       "      <th>0</th>\n",
       "      <td>2</td>\n",
       "      <td>2</td>\n",
       "      <td>1</td>\n",
       "      <td>0</td>\n",
       "      <td>1</td>\n",
       "      <td>1</td>\n",
       "      <td>57</td>\n",
       "      <td>194</td>\n",
       "      <td>[45,182,69,207]</td>\n",
       "      <td>NaN</td>\n",
       "      <td>NaN</td>\n",
       "      <td>NaN</td>\n",
       "      <td>NaN</td>\n",
       "      <td>3002.84</td>\n",
       "      <td>1</td>\n",
       "      <td>NaN</td>\n",
       "    </tr>\n",
       "    <tr>\n",
       "      <th>1</th>\n",
       "      <td>2</td>\n",
       "      <td>2</td>\n",
       "      <td>1</td>\n",
       "      <td>0</td>\n",
       "      <td>1</td>\n",
       "      <td>2</td>\n",
       "      <td>592</td>\n",
       "      <td>214</td>\n",
       "      <td>[589,210,595,219]</td>\n",
       "      <td>NaN</td>\n",
       "      <td>NaN</td>\n",
       "      <td>NaN</td>\n",
       "      <td>NaN</td>\n",
       "      <td>6551.13</td>\n",
       "      <td>2</td>\n",
       "      <td>NaN</td>\n",
       "    </tr>\n",
       "    <tr>\n",
       "      <th>2</th>\n",
       "      <td>2</td>\n",
       "      <td>2</td>\n",
       "      <td>1</td>\n",
       "      <td>0</td>\n",
       "      <td>1</td>\n",
       "      <td>3</td>\n",
       "      <td>751</td>\n",
       "      <td>243</td>\n",
       "      <td>[747,240,756,247]</td>\n",
       "      <td>NaN</td>\n",
       "      <td>NaN</td>\n",
       "      <td>NaN</td>\n",
       "      <td>NaN</td>\n",
       "      <td>5909.26</td>\n",
       "      <td>3</td>\n",
       "      <td>NaN</td>\n",
       "    </tr>\n",
       "    <tr>\n",
       "      <th>3</th>\n",
       "      <td>2</td>\n",
       "      <td>2</td>\n",
       "      <td>1</td>\n",
       "      <td>0</td>\n",
       "      <td>1</td>\n",
       "      <td>4</td>\n",
       "      <td>554</td>\n",
       "      <td>274</td>\n",
       "      <td>[551,271,558,279]</td>\n",
       "      <td>NaN</td>\n",
       "      <td>NaN</td>\n",
       "      <td>NaN</td>\n",
       "      <td>NaN</td>\n",
       "      <td>4329.98</td>\n",
       "      <td>4</td>\n",
       "      <td>NaN</td>\n",
       "    </tr>\n",
       "    <tr>\n",
       "      <th>4</th>\n",
       "      <td>2</td>\n",
       "      <td>2</td>\n",
       "      <td>1</td>\n",
       "      <td>0</td>\n",
       "      <td>1</td>\n",
       "      <td>5</td>\n",
       "      <td>288</td>\n",
       "      <td>461</td>\n",
       "      <td>[285,457,291,466]</td>\n",
       "      <td>NaN</td>\n",
       "      <td>NaN</td>\n",
       "      <td>NaN</td>\n",
       "      <td>NaN</td>\n",
       "      <td>2475.08</td>\n",
       "      <td>5</td>\n",
       "      <td>NaN</td>\n",
       "    </tr>\n",
       "  </tbody>\n",
       "</table>\n",
       "</div>"
      ],
      "text/plain": [
       "   Row  Column  Plane  Timepoint  Field  Object No    X    Y  \\\n",
       "0    2       2      1          0      1          1   57  194   \n",
       "1    2       2      1          0      1          2  592  214   \n",
       "2    2       2      1          0      1          3  751  243   \n",
       "3    2       2      1          0      1          4  554  274   \n",
       "4    2       2      1          0      1          5  288  461   \n",
       "\n",
       "        Bounding Box  Compound  Concentration  Cell Type  Cell Count  \\\n",
       "0    [45,182,69,207]       NaN            NaN        NaN         NaN   \n",
       "1  [589,210,595,219]       NaN            NaN        NaN         NaN   \n",
       "2  [747,240,756,247]       NaN            NaN        NaN         NaN   \n",
       "3  [551,271,558,279]       NaN            NaN        NaN         NaN   \n",
       "4  [285,457,291,466]       NaN            NaN        NaN         NaN   \n",
       "\n",
       "   Dead Stain - Intensity dead Mean  Dead Stain - Object No in Dead Stain All  \\\n",
       "0                           3002.84                                         1   \n",
       "1                           6551.13                                         2   \n",
       "2                           5909.26                                         3   \n",
       "3                           4329.98                                         4   \n",
       "4                           2475.08                                         5   \n",
       "\n",
       "   Unnamed: 15  \n",
       "0          NaN  \n",
       "1          NaN  \n",
       "2          NaN  \n",
       "3          NaN  \n",
       "4          NaN  "
      ]
     },
     "execution_count": 23,
     "metadata": {},
     "output_type": "execute_result"
    }
   ],
   "source": [
    "deadcells.head()"
   ]
  },
  {
   "cell_type": "code",
   "execution_count": 24,
   "metadata": {},
   "outputs": [],
   "source": [
    "livecells = pd.read_csv('Objects_Population - Life Stain.txt',delimiter=\"\\t\")"
   ]
  },
  {
   "cell_type": "code",
   "execution_count": 25,
   "metadata": {},
   "outputs": [
    {
     "data": {
      "text/html": [
       "<div>\n",
       "<style scoped>\n",
       "    .dataframe tbody tr th:only-of-type {\n",
       "        vertical-align: middle;\n",
       "    }\n",
       "\n",
       "    .dataframe tbody tr th {\n",
       "        vertical-align: top;\n",
       "    }\n",
       "\n",
       "    .dataframe thead th {\n",
       "        text-align: right;\n",
       "    }\n",
       "</style>\n",
       "<table border=\"1\" class=\"dataframe\">\n",
       "  <thead>\n",
       "    <tr style=\"text-align: right;\">\n",
       "      <th></th>\n",
       "      <th>Row</th>\n",
       "      <th>Column</th>\n",
       "      <th>Plane</th>\n",
       "      <th>Timepoint</th>\n",
       "      <th>Field</th>\n",
       "      <th>Object No</th>\n",
       "      <th>X</th>\n",
       "      <th>Y</th>\n",
       "      <th>Bounding Box</th>\n",
       "      <th>Compound</th>\n",
       "      <th>Concentration</th>\n",
       "      <th>Cell Type</th>\n",
       "      <th>Cell Count</th>\n",
       "      <th>Life Stain - Intensity live Mean</th>\n",
       "      <th>Life Stain - nucleus staining Mean</th>\n",
       "      <th>Life Stain - Object No in nucleus</th>\n",
       "      <th>Unnamed: 16</th>\n",
       "    </tr>\n",
       "  </thead>\n",
       "  <tbody>\n",
       "    <tr>\n",
       "      <th>0</th>\n",
       "      <td>2</td>\n",
       "      <td>2</td>\n",
       "      <td>1</td>\n",
       "      <td>0</td>\n",
       "      <td>1</td>\n",
       "      <td>1</td>\n",
       "      <td>20</td>\n",
       "      <td>12</td>\n",
       "      <td>[4,1,35,28]</td>\n",
       "      <td>NaN</td>\n",
       "      <td>NaN</td>\n",
       "      <td>NaN</td>\n",
       "      <td>NaN</td>\n",
       "      <td>3617.53</td>\n",
       "      <td>3982.18</td>\n",
       "      <td>1</td>\n",
       "      <td>NaN</td>\n",
       "    </tr>\n",
       "    <tr>\n",
       "      <th>1</th>\n",
       "      <td>2</td>\n",
       "      <td>2</td>\n",
       "      <td>1</td>\n",
       "      <td>0</td>\n",
       "      <td>1</td>\n",
       "      <td>2</td>\n",
       "      <td>139</td>\n",
       "      <td>8</td>\n",
       "      <td>[126,1,172,16]</td>\n",
       "      <td>NaN</td>\n",
       "      <td>NaN</td>\n",
       "      <td>NaN</td>\n",
       "      <td>NaN</td>\n",
       "      <td>3237.05</td>\n",
       "      <td>4206.38</td>\n",
       "      <td>2</td>\n",
       "      <td>NaN</td>\n",
       "    </tr>\n",
       "    <tr>\n",
       "      <th>2</th>\n",
       "      <td>2</td>\n",
       "      <td>2</td>\n",
       "      <td>1</td>\n",
       "      <td>0</td>\n",
       "      <td>1</td>\n",
       "      <td>3</td>\n",
       "      <td>185</td>\n",
       "      <td>13</td>\n",
       "      <td>[165,1,206,30]</td>\n",
       "      <td>NaN</td>\n",
       "      <td>NaN</td>\n",
       "      <td>NaN</td>\n",
       "      <td>NaN</td>\n",
       "      <td>3985.90</td>\n",
       "      <td>4852.29</td>\n",
       "      <td>3</td>\n",
       "      <td>NaN</td>\n",
       "    </tr>\n",
       "    <tr>\n",
       "      <th>3</th>\n",
       "      <td>2</td>\n",
       "      <td>2</td>\n",
       "      <td>1</td>\n",
       "      <td>0</td>\n",
       "      <td>1</td>\n",
       "      <td>4</td>\n",
       "      <td>541</td>\n",
       "      <td>16</td>\n",
       "      <td>[513,1,572,50]</td>\n",
       "      <td>NaN</td>\n",
       "      <td>NaN</td>\n",
       "      <td>NaN</td>\n",
       "      <td>NaN</td>\n",
       "      <td>4058.24</td>\n",
       "      <td>4544.25</td>\n",
       "      <td>4</td>\n",
       "      <td>NaN</td>\n",
       "    </tr>\n",
       "    <tr>\n",
       "      <th>4</th>\n",
       "      <td>2</td>\n",
       "      <td>2</td>\n",
       "      <td>1</td>\n",
       "      <td>0</td>\n",
       "      <td>1</td>\n",
       "      <td>5</td>\n",
       "      <td>584</td>\n",
       "      <td>23</td>\n",
       "      <td>[552,1,613,70]</td>\n",
       "      <td>NaN</td>\n",
       "      <td>NaN</td>\n",
       "      <td>NaN</td>\n",
       "      <td>NaN</td>\n",
       "      <td>4177.87</td>\n",
       "      <td>4421.11</td>\n",
       "      <td>5</td>\n",
       "      <td>NaN</td>\n",
       "    </tr>\n",
       "  </tbody>\n",
       "</table>\n",
       "</div>"
      ],
      "text/plain": [
       "   Row  Column  Plane  Timepoint  Field  Object No    X   Y    Bounding Box  \\\n",
       "0    2       2      1          0      1          1   20  12     [4,1,35,28]   \n",
       "1    2       2      1          0      1          2  139   8  [126,1,172,16]   \n",
       "2    2       2      1          0      1          3  185  13  [165,1,206,30]   \n",
       "3    2       2      1          0      1          4  541  16  [513,1,572,50]   \n",
       "4    2       2      1          0      1          5  584  23  [552,1,613,70]   \n",
       "\n",
       "   Compound  Concentration  Cell Type  Cell Count  \\\n",
       "0       NaN            NaN        NaN         NaN   \n",
       "1       NaN            NaN        NaN         NaN   \n",
       "2       NaN            NaN        NaN         NaN   \n",
       "3       NaN            NaN        NaN         NaN   \n",
       "4       NaN            NaN        NaN         NaN   \n",
       "\n",
       "   Life Stain - Intensity live Mean  Life Stain - nucleus staining Mean  \\\n",
       "0                           3617.53                             3982.18   \n",
       "1                           3237.05                             4206.38   \n",
       "2                           3985.90                             4852.29   \n",
       "3                           4058.24                             4544.25   \n",
       "4                           4177.87                             4421.11   \n",
       "\n",
       "   Life Stain - Object No in nucleus  Unnamed: 16  \n",
       "0                                  1          NaN  \n",
       "1                                  2          NaN  \n",
       "2                                  3          NaN  \n",
       "3                                  4          NaN  \n",
       "4                                  5          NaN  "
      ]
     },
     "execution_count": 25,
     "metadata": {},
     "output_type": "execute_result"
    }
   ],
   "source": [
    "livecells.head()"
   ]
  },
  {
   "cell_type": "code",
   "execution_count": 26,
   "metadata": {},
   "outputs": [],
   "source": [
    "livecells = livecells.drop(livecells.columns[[2,3,4,5,6,7,9,10,11,12,15,16]], axis=1)"
   ]
  },
  {
   "cell_type": "code",
   "execution_count": 27,
   "metadata": {},
   "outputs": [],
   "source": [
    "deadcells = deadcells.drop(deadcells.columns[[2,3,4,5,6,7,9,10,11,12,14,15]], axis=1)"
   ]
  },
  {
   "cell_type": "code",
   "execution_count": 28,
   "metadata": {},
   "outputs": [],
   "source": [
    "mergedf = pd.merge(livecells,deadcells,on = 'Bounding Box')"
   ]
  },
  {
   "cell_type": "code",
   "execution_count": 29,
   "metadata": {},
   "outputs": [
    {
     "data": {
      "text/html": [
       "<div>\n",
       "<style scoped>\n",
       "    .dataframe tbody tr th:only-of-type {\n",
       "        vertical-align: middle;\n",
       "    }\n",
       "\n",
       "    .dataframe tbody tr th {\n",
       "        vertical-align: top;\n",
       "    }\n",
       "\n",
       "    .dataframe thead th {\n",
       "        text-align: right;\n",
       "    }\n",
       "</style>\n",
       "<table border=\"1\" class=\"dataframe\">\n",
       "  <thead>\n",
       "    <tr style=\"text-align: right;\">\n",
       "      <th></th>\n",
       "      <th>Row_x</th>\n",
       "      <th>Column_x</th>\n",
       "      <th>Bounding Box</th>\n",
       "      <th>Life Stain - Intensity live Mean</th>\n",
       "      <th>Life Stain - nucleus staining Mean</th>\n",
       "      <th>Row_y</th>\n",
       "      <th>Column_y</th>\n",
       "      <th>Dead Stain - Intensity dead Mean</th>\n",
       "    </tr>\n",
       "  </thead>\n",
       "  <tbody>\n",
       "    <tr>\n",
       "      <th>0</th>\n",
       "      <td>3</td>\n",
       "      <td>3</td>\n",
       "      <td>[1,999,36,1022]</td>\n",
       "      <td>3007.87</td>\n",
       "      <td>4780.65</td>\n",
       "      <td>6</td>\n",
       "      <td>7</td>\n",
       "      <td>2193.34</td>\n",
       "    </tr>\n",
       "    <tr>\n",
       "      <th>1</th>\n",
       "      <td>3</td>\n",
       "      <td>11</td>\n",
       "      <td>[1,384,22,408]</td>\n",
       "      <td>13518.70</td>\n",
       "      <td>3221.46</td>\n",
       "      <td>6</td>\n",
       "      <td>7</td>\n",
       "      <td>3227.77</td>\n",
       "    </tr>\n",
       "    <tr>\n",
       "      <th>2</th>\n",
       "      <td>5</td>\n",
       "      <td>8</td>\n",
       "      <td>[1,323,13,335]</td>\n",
       "      <td>5351.14</td>\n",
       "      <td>3829.26</td>\n",
       "      <td>4</td>\n",
       "      <td>3</td>\n",
       "      <td>3724.66</td>\n",
       "    </tr>\n",
       "    <tr>\n",
       "      <th>3</th>\n",
       "      <td>6</td>\n",
       "      <td>3</td>\n",
       "      <td>[63,939,75,953]</td>\n",
       "      <td>1948.17</td>\n",
       "      <td>4499.86</td>\n",
       "      <td>6</td>\n",
       "      <td>3</td>\n",
       "      <td>2514.82</td>\n",
       "    </tr>\n",
       "    <tr>\n",
       "      <th>4</th>\n",
       "      <td>6</td>\n",
       "      <td>4</td>\n",
       "      <td>[1346,1001,1358,1015]</td>\n",
       "      <td>1881.39</td>\n",
       "      <td>4390.13</td>\n",
       "      <td>4</td>\n",
       "      <td>4</td>\n",
       "      <td>2400.78</td>\n",
       "    </tr>\n",
       "    <tr>\n",
       "      <th>5</th>\n",
       "      <td>7</td>\n",
       "      <td>3</td>\n",
       "      <td>[1,1009,12,1022]</td>\n",
       "      <td>4599.73</td>\n",
       "      <td>4933.65</td>\n",
       "      <td>6</td>\n",
       "      <td>3</td>\n",
       "      <td>2639.77</td>\n",
       "    </tr>\n",
       "  </tbody>\n",
       "</table>\n",
       "</div>"
      ],
      "text/plain": [
       "   Row_x  Column_x           Bounding Box  Life Stain - Intensity live Mean  \\\n",
       "0      3         3        [1,999,36,1022]                           3007.87   \n",
       "1      3        11         [1,384,22,408]                          13518.70   \n",
       "2      5         8         [1,323,13,335]                           5351.14   \n",
       "3      6         3        [63,939,75,953]                           1948.17   \n",
       "4      6         4  [1346,1001,1358,1015]                           1881.39   \n",
       "5      7         3       [1,1009,12,1022]                           4599.73   \n",
       "\n",
       "   Life Stain - nucleus staining Mean  Row_y  Column_y  \\\n",
       "0                             4780.65      6         7   \n",
       "1                             3221.46      6         7   \n",
       "2                             3829.26      4         3   \n",
       "3                             4499.86      6         3   \n",
       "4                             4390.13      4         4   \n",
       "5                             4933.65      6         3   \n",
       "\n",
       "   Dead Stain - Intensity dead Mean  \n",
       "0                           2193.34  \n",
       "1                           3227.77  \n",
       "2                           3724.66  \n",
       "3                           2514.82  \n",
       "4                           2400.78  \n",
       "5                           2639.77  "
      ]
     },
     "execution_count": 29,
     "metadata": {},
     "output_type": "execute_result"
    }
   ],
   "source": [
    "mergedf"
   ]
  },
  {
   "cell_type": "code",
   "execution_count": 30,
   "metadata": {},
   "outputs": [
    {
     "data": {
      "text/html": [
       "<div>\n",
       "<style scoped>\n",
       "    .dataframe tbody tr th:only-of-type {\n",
       "        vertical-align: middle;\n",
       "    }\n",
       "\n",
       "    .dataframe tbody tr th {\n",
       "        vertical-align: top;\n",
       "    }\n",
       "\n",
       "    .dataframe thead th {\n",
       "        text-align: right;\n",
       "    }\n",
       "</style>\n",
       "<table border=\"1\" class=\"dataframe\">\n",
       "  <thead>\n",
       "    <tr style=\"text-align: right;\">\n",
       "      <th></th>\n",
       "      <th>Row</th>\n",
       "      <th>Column</th>\n",
       "      <th>Object No</th>\n",
       "      <th>Life Stain - Intensity live Mean</th>\n",
       "      <th>Life Stain - nucleus staining Mean</th>\n",
       "      <th>Life Stain - Object No in nucleus</th>\n",
       "      <th>Tm</th>\n",
       "      <th>Glu</th>\n",
       "      <th>Vesciles</th>\n",
       "    </tr>\n",
       "  </thead>\n",
       "  <tbody>\n",
       "    <tr>\n",
       "      <th>0</th>\n",
       "      <td>2</td>\n",
       "      <td>2</td>\n",
       "      <td>1</td>\n",
       "      <td>3617.53</td>\n",
       "      <td>3982.18</td>\n",
       "      <td>1</td>\n",
       "      <td>Gox</td>\n",
       "      <td>0.17</td>\n",
       "      <td>conc1</td>\n",
       "    </tr>\n",
       "    <tr>\n",
       "      <th>1</th>\n",
       "      <td>2</td>\n",
       "      <td>2</td>\n",
       "      <td>2</td>\n",
       "      <td>3237.05</td>\n",
       "      <td>4206.38</td>\n",
       "      <td>2</td>\n",
       "      <td>Gox</td>\n",
       "      <td>0.17</td>\n",
       "      <td>conc1</td>\n",
       "    </tr>\n",
       "    <tr>\n",
       "      <th>2</th>\n",
       "      <td>2</td>\n",
       "      <td>2</td>\n",
       "      <td>3</td>\n",
       "      <td>3985.90</td>\n",
       "      <td>4852.29</td>\n",
       "      <td>3</td>\n",
       "      <td>Gox</td>\n",
       "      <td>0.17</td>\n",
       "      <td>conc1</td>\n",
       "    </tr>\n",
       "    <tr>\n",
       "      <th>3</th>\n",
       "      <td>2</td>\n",
       "      <td>2</td>\n",
       "      <td>4</td>\n",
       "      <td>4058.24</td>\n",
       "      <td>4544.25</td>\n",
       "      <td>4</td>\n",
       "      <td>Gox</td>\n",
       "      <td>0.17</td>\n",
       "      <td>conc1</td>\n",
       "    </tr>\n",
       "    <tr>\n",
       "      <th>4</th>\n",
       "      <td>2</td>\n",
       "      <td>2</td>\n",
       "      <td>5</td>\n",
       "      <td>4177.87</td>\n",
       "      <td>4421.11</td>\n",
       "      <td>5</td>\n",
       "      <td>Gox</td>\n",
       "      <td>0.17</td>\n",
       "      <td>conc1</td>\n",
       "    </tr>\n",
       "  </tbody>\n",
       "</table>\n",
       "</div>"
      ],
      "text/plain": [
       "  Row Column  Object No  Life Stain - Intensity live Mean  \\\n",
       "0   2      2          1                           3617.53   \n",
       "1   2      2          2                           3237.05   \n",
       "2   2      2          3                           3985.90   \n",
       "3   2      2          4                           4058.24   \n",
       "4   2      2          5                           4177.87   \n",
       "\n",
       "   Life Stain - nucleus staining Mean  Life Stain - Object No in nucleus   Tm  \\\n",
       "0                             3982.18                                  1  Gox   \n",
       "1                             4206.38                                  2  Gox   \n",
       "2                             4852.29                                  3  Gox   \n",
       "3                             4544.25                                  4  Gox   \n",
       "4                             4421.11                                  5  Gox   \n",
       "\n",
       "    Glu Vesciles  \n",
       "0  0.17    conc1  \n",
       "1  0.17    conc1  \n",
       "2  0.17    conc1  \n",
       "3  0.17    conc1  \n",
       "4  0.17    conc1  "
      ]
     },
     "execution_count": 30,
     "metadata": {},
     "output_type": "execute_result"
    }
   ],
   "source": [
    "Livecells.head()"
   ]
  },
  {
   "cell_type": "code",
   "execution_count": 31,
   "metadata": {},
   "outputs": [
    {
     "data": {
      "text/plain": [
       "<seaborn.axisgrid.FacetGrid at 0x28f5608cc88>"
      ]
     },
     "execution_count": 31,
     "metadata": {},
     "output_type": "execute_result"
    },
    {
     "data": {
      "image/png": "[encoded data removed]",
      "text/plain": [
       "<Figure size 1507.88x360 with 4 Axes>"
      ]
     },
     "metadata": {},
     "output_type": "display_data"
    }
   ],
   "source": [
    "sns.catplot(x='Glu', y='Life Stain - Intensity live Mean',hue='Tm',col='Vesciles',data=Livecells,kind='box')"
   ]
  },
  {
   "cell_type": "code",
   "execution_count": null,
   "metadata": {},
   "outputs": [],
   "source": []
  },
  {
   "cell_type": "code",
   "execution_count": null,
   "metadata": {},
   "outputs": [],
   "source": []
  },
  {
   "cell_type": "code",
   "execution_count": null,
   "metadata": {},
   "outputs": [],
   "source": []
  },
  {
   "cell_type": "code",
   "execution_count": null,
   "metadata": {},
   "outputs": [],
   "source": []
  },
  {
   "cell_type": "code",
   "execution_count": null,
   "metadata": {},
   "outputs": [],
   "source": []
  },
  {
   "cell_type": "code",
   "execution_count": null,
   "metadata": {},
   "outputs": [],
   "source": []
  }
 ],
 "metadata": {
  "kernelspec": {
   "display_name": "Python 3",
   "language": "python",
   "name": "python3"
  },
  "language_info": {
   "codemirror_mode": {
    "name": "ipython",
    "version": 3
   },
   "file_extension": ".py",
   "mimetype": "text/x-python",
   "name": "python",
   "nbconvert_exporter": "python",
   "pygments_lexer": "ipython3",
   "version": "3.6.5"
  }
 },
 "nbformat": 4,
 "nbformat_minor": 2
}
